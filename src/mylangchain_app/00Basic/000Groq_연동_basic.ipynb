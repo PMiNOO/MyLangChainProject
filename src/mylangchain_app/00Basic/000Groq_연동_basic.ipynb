{
 "cells": [
  {
   "cell_type": "code",
   "execution_count": 1,
   "metadata": {},
   "outputs": [
    {
     "name": "stdout",
     "output_type": "stream",
     "text": [
      "Hello LangChain\n"
     ]
    }
   ],
   "source": [
    "print(\"Hello LangChain\")"
   ]
  },
  {
   "cell_type": "code",
   "execution_count": 6,
   "metadata": {},
   "outputs": [
    {
     "name": "stdout",
     "output_type": "stream",
     "text": [
      "gsk_6\n"
     ]
    }
   ],
   "source": [
    "import os\n",
    "from dotenv import load_dotenv\n",
    "from langchain_core.prompts import ChatPromptTemplate\n",
    "from langchain_openai import ChatOpenAI \n",
    "\n",
    "# load_dotenv(dotenv_path='.env')\n",
    "load_dotenv()\n",
    "OPENAI_API_KEY = os.getenv(\"OPENAI_API_KEY\")\n",
    "print(OPENAI_API_KEY[:5])\n"
   ]
  },
  {
   "cell_type": "code",
   "execution_count": 10,
   "metadata": {},
   "outputs": [
    {
     "name": "stdout",
     "output_type": "stream",
     "text": [
      "<class 'langchain_core.prompts.chat.ChatPromptTemplate'>\n",
      "input_variables=['input'] input_types={} partial_variables={} messages=[SystemMessagePromptTemplate(prompt=PromptTemplate(input_variables=[], input_types={}, partial_variables={}, template='당신은 개발자입니다.'), additional_kwargs={}), HumanMessagePromptTemplate(prompt=PromptTemplate(input_variables=['input'], input_types={}, partial_variables={}, template='{input}'), additional_kwargs={})]\n"
     ]
    },
    {
     "data": {
      "text/plain": [
       "ChatPromptTemplate(input_variables=['input'], input_types={}, partial_variables={}, messages=[SystemMessagePromptTemplate(prompt=PromptTemplate(input_variables=[], input_types={}, partial_variables={}, template='당신은 개발자입니다.'), additional_kwargs={}), HumanMessagePromptTemplate(prompt=PromptTemplate(input_variables=['input'], input_types={}, partial_variables={}, template='{input}'), additional_kwargs={})])"
      ]
     },
     "execution_count": 10,
     "metadata": {},
     "output_type": "execute_result"
    }
   ],
   "source": [
    "# prompt + llm + output \n",
    "\n",
    "# prompt\n",
    "prompt = ChatPromptTemplate.from_messages(\n",
    "    [ (\"system\", \"당신은 개발자입니다.\") , \n",
    "     (\"user\", \"{input}\") ]\n",
    ")\n",
    "print(type(prompt))\n",
    "print(prompt)\n",
    "prompt"
   ]
  },
  {
   "cell_type": "code",
   "execution_count": 8,
   "metadata": {},
   "outputs": [
    {
     "name": "stdout",
     "output_type": "stream",
     "text": [
      "<class 'str'>\n",
      "System: 당신은 개발자입니다.\n",
      "Human: 파이썬은 무엇인가요? 자세하게 설명해주세요\n"
     ]
    }
   ],
   "source": [
    "prompt_text = prompt.format(input=\"파이썬은 무엇인가요? 자세하게 설명해주세요\")\n",
    "print(type(prompt_text))\n",
    "print(prompt_text)"
   ]
  },
  {
   "cell_type": "code",
   "execution_count": 19,
   "metadata": {},
   "outputs": [
    {
     "name": "stdout",
     "output_type": "stream",
     "text": [
      "<class 'langchain_openai.chat_models.base.ChatOpenAI'>\n",
      "client=<openai.resources.chat.completions.completions.Completions object at 0x0000028F48314260> async_client=<openai.resources.chat.completions.completions.AsyncCompletions object at 0x0000028F483143B0> root_client=<openai.OpenAI object at 0x0000028F48225C40> root_async_client=<openai.AsyncOpenAI object at 0x0000028F48314110> model_name='openai/gpt-oss-120b' temperature=0.7 model_kwargs={} openai_api_key=SecretStr('**********') openai_api_base='https://api.groq.com/openai/v1'\n"
     ]
    }
   ],
   "source": [
    "#llm = ChatOpenAI(api_key=OPENAI_API_KEY, model_name=\"gpt-3.5-turbo-0125\")\n",
    "\n",
    "# Groq API를 사용하는 ChatOpenAI 인스턴스 생성\n",
    "llm = ChatOpenAI(\n",
    "    # api_key=OPENAI_API_KEY,\n",
    "    base_url=\"https://api.groq.com/openai/v1\",  # Groq API 엔드포인트\n",
    "    # model=\"meta-llama/llama-4-scout-17b-16e-instruct\",\n",
    "    # model=\"moonshotai/kimi-k2-instruct-0905\",\n",
    "    model=\"openai/gpt-oss-120b\",\n",
    "    temperature=0.7\n",
    ")\n",
    "print(type(llm))\n",
    "print(llm)"
   ]
  },
  {
   "cell_type": "code",
   "execution_count": 20,
   "metadata": {},
   "outputs": [
    {
     "name": "stdout",
     "output_type": "stream",
     "text": [
      "<class 'langchain_core.messages.ai.AIMessage'>\n",
      "응답: ## 파이썬(Python)이란?\n",
      "\n",
      "**파이썬**은 1991년에 네덜란드의 프로그래머 **귀도 반 로썸(Guido van Rossum)**이 처음 발표한 **고수준(high‑level), 인터프리터형(interpreted), 동적 타이핑(dynamic typing)** 언어입니다. 현재는 **오픈 소스**이며 전 세계 수많은 개발자와 기업이 활발히 유지·보수하고 있습니다.  \n",
      "\n",
      "---\n",
      "\n",
      "## 1. 파이썬의 주요 특징\n",
      "\n",
      "| 특징 | 설명 | 장점 |\n",
      "|------|------|------|\n",
      "| **읽기 쉬운 문법** | 들여쓰기로 블록을 구분하고, 불필요한 기호(세미콜론, 중괄호 등)를 최소화 | 코드를 빠르게 이해하고 유지보수하기 쉬움 |\n",
      "| **동적 타이핑** | 변수 선언 시 타입을 명시하지 않음 (`x = 10` → `x`는 정수, `x = \"hello\"` → 문자열) | 개발 속도가 빨라짐, 프로토타이핑에 유리 |\n",
      "| **인터프리터 언어** | 소스 코드를 바로 실행 (`python script.py`) | 컴파일 단계가 없어 빠른 테스트 가능 |\n",
      "| **광범위한 표준 라이브러리** | 파일 입출력, 네트워크, 웹, 데이터베이스, 암호화 등 2,000개 이상의 모듈 포함 | 외부 패키지를 거의 쓰지 않아도 다양한 작업 수행 |\n",
      "| **멀티패러다임 지원** | 절차적, 객체지향, 함수형 프로그래밍 가능 | 상황에 맞는 스타일 선택 가능 |\n",
      "| **플랫폼 독립성** | Windows, macOS, Linux, iOS, Android 등 거의 모든 운영체제에서 동일하게 동작 | 코드 이식성이 뛰어남 |\n",
      "| **풍부한 서드파티 생태계** | `pip`(패키지 매니저)와 PyPI(Python Package Index) → 30만 개 이상의 패키지 | 데이터 과학, 웹 개발, 자동화, 머신러닝 등 거의 모든 분야에 활용 가능 |\n",
      "| **커뮤니티와 문서** | 공식 문서, Stack Overflow, GitHub, 다양한 블로그·강좌 | 문제 해결이 쉽고 학습 자료가 풍부 |\n",
      "\n",
      "---\n",
      "\n",
      "## 2. 파이썬의 역사와 버전\n",
      "\n",
      "| 연도 | 주요 사건 |\n",
      "|------|-----------|\n",
      "| 1989 | 귀도 반 로썸이 “ABC” 언어의 후속으로 파이썬 설계 시작 |\n",
      "| 1991 | 파이썬 0.9.0 공개 (첫 공개 버전) |\n",
      "| 2000 | 파이썬 2.0 출시 – 리스트 컴프리헨션, 가비지 컬렉션 등 |\n",
      "| 2008 | 파이썬 3.0 출시 – **문자열/바이트 구분**, `print` 함수 등 호환성 파괴적인 변화 |\n",
      "| 2020 | 파이썬 2.0 공식 지원 종료 (EOL) |\n",
      "| 2023 | 최신 LTS 버전은 **Python 3.12** (성능 개선, 패턴 매칭 강화 등) |\n",
      "| 2025 (예정) | Python 3.13 예정 – 더 빠른 시작 속도와 새로운 타입 힌트 기능 |\n",
      "\n",
      "> **주의**: 현재(2025년) 대부분의 프로젝트는 Python 3.x 버전을 사용합니다. Python 2.x는 보안 업데이트가 없으므로 절대 사용하지 않는 것이 좋습니다.\n",
      "\n",
      "---\n",
      "\n",
      "## 3. 파이썬이 주로 쓰이는 분야\n",
      "\n",
      "| 분야 | 활용 예시 |\n",
      "|------|-----------|\n",
      "| **웹 개발** | Django, Flask, FastAPI 등 프레임워크를 이용한 백엔드 서비스 |\n",
      "| **데이터 과학·통계** | NumPy, pandas, SciPy, Matplotlib, Seaborn |\n",
      "| **머신러닝·딥러닝** | scikit-learn, TensorFlow, PyTorch, Keras |\n",
      "| **자동화·스크립팅** | 파일·디렉터리 관리, 웹 스크래핑 (BeautifulSoup, Selenium), 시스템 관리 |\n",
      "| **네트워크·보안** | Scapy, Paramiko, 암호화 라이브러리 |\n",
      "| **게임 개발** | Pygame, Panda3D |\n",
      "| **임베디드·IoT** | MicroPython, CircuitPython (마이크로컨트롤러) |\n",
      "| **교육** | 초·중·고·대학 프로그래밍 교육에 가장 많이 쓰이는 언어 중 하나 |\n",
      "\n",
      "---\n",
      "\n",
      "## 4. 파이썬 기본 문법 소개\n",
      "\n",
      "아래 예제는 파이썬의 핵심 문법을 간단히 보여줍니다.\n",
      "\n",
      "### 4‑1. 변수와 자료형\n",
      "\n",
      "```python\n",
      "# 정수, 실수, 문자열, 불리언\n",
      "age = 27               # int\n",
      "price = 19.99          # float\n",
      "name = \"Alice\"         # str\n",
      "is_admin = False      # bool\n",
      "\n",
      "# 리스트, 튜플, 딕셔너리, 집합\n",
      "fruits = [\"apple\", \"banana\", \"cherry\"]   # list\n",
      "coords = (10, 20)                         # tuple\n",
      "person = {\"name\": \"Bob\", \"age\": 30}       # dict\n",
      "unique = {1, 2, 3, 2}                     # set (중복 자동 제거)\n",
      "```\n",
      "\n",
      "### 4‑2. 제어 흐름\n",
      "\n",
      "```python\n",
      "# 조건문\n",
      "if age >= 18:\n",
      "    print(\"성인\")\n",
      "elif age > 0:\n",
      "    print(\"미성년\")\n",
      "else:\n",
      "    print(\"잘못된 나이\")\n",
      "\n",
      "# 반복문\n",
      "for fruit in fruits:\n",
      "    print(fruit)\n",
      "\n",
      "i = 0\n",
      "while i < 5:\n",
      "    print(i)\n",
      "    i += 1\n",
      "```\n",
      "\n",
      "### 4‑3. 함수와 람다\n",
      "\n",
      "```python\n",
      "def greet(name: str, times: int = 1) -> None:\n",
      "    \"\"\"인사를 여러 번 출력합니다.\"\"\"\n",
      "    for _ in range(times):\n",
      "        print(f\"Hello, {name}!\")\n",
      "\n",
      "greet(\"Charlie\", 3)\n",
      "\n",
      "# 람다 함수 (익명 함수)\n",
      "square = lambda x: x * x\n",
      "print(square(5))   # 25\n",
      "```\n",
      "\n",
      "### 4‑4. 클래스와 객체지향\n",
      "\n",
      "```python\n",
      "class Animal:\n",
      "    def __init__(self, name: str):\n",
      "        self.name = name\n",
      "\n",
      "    def speak(self):\n",
      "        raise NotImplementedError(\"이 메서드는 서브클래스에서 구현해야 합니다.\")\n",
      "\n",
      "class Dog(Animal):\n",
      "    def speak(self):\n",
      "        return f\"{self.name}가 멍멍!\"\n",
      "\n",
      "class Cat(Animal):\n",
      "    def speak(self):\n",
      "        return f\"{self.name}가 야옹!\"\n",
      "\n",
      "dog = Dog(\"바둑이\")\n",
      "cat = Cat(\"냥이\")\n",
      "print(dog.speak())   # 바둑이가 멍멍!\n",
      "print(cat.speak())   # 냥이가 야옹!\n",
      "```\n",
      "\n",
      "### 4‑5. 파일 입출력\n",
      "\n",
      "```python\n",
      "# 파일 쓰기\n",
      "with open(\"example.txt\", \"w\", encoding=\"utf-8\") as f:\n",
      "    f.write(\"파이썬은 재미있어요!\\n\")\n",
      "\n",
      "# 파일 읽기\n",
      "with open(\"example.txt\", \"r\", encoding=\"utf-8\") as f:\n",
      "    content = f.read()\n",
      "    print(content)\n",
      "```\n",
      "\n",
      "### 4‑6. 모듈·패키지 사용\n",
      "\n",
      "```python\n",
      "# 표준 라이브러리 예시\n",
      "import math\n",
      "import datetime as dt\n",
      "\n",
      "print(math.sqrt(16))          # 4.0\n",
      "print(dt.datetime.now())     # 현재 날짜·시간\n",
      "\n",
      "# 서드파티 패키지 예시 (pip 설치 필요)\n",
      "# pip install requests\n",
      "import requests\n",
      "\n",
      "resp = requests.get(\"https://api.github.com\")\n",
      "print(resp.status_code)      # 200\n",
      "```\n",
      "\n",
      "---\n",
      "\n",
      "## 5. 파이썬 개발 환경 설정 가이드\n",
      "\n",
      "| 단계 | 내용 | 주요 도구 |\n",
      "|------|------|-----------|\n",
      "| **1. 파이썬 설치** | 공식 사이트([python.org](https://www.python.org/))에서 최신 3.x 버전 다운로드 | Windows: `python‑3.x.x‑amd64.exe` (Add to PATH 선택)<br>macOS: Homebrew `brew install python`<br>Linux: `sudo apt install python3` |\n",
      "| **2. 가상 환경** | 프로젝트마다 독립된 패키지 집합 관리 (`venv`, `virtualenv`, `conda`) | `python -m venv .venv` → `source .venv/bin/activate` |\n",
      "| **3. 패키지 관리** | `pip` (또는 `pipenv`, `poetry`) | `pip install numpy pandas` |\n",
      "| **4. IDE/에디터** | 코드 자동완성, 디버깅, 린트(lint) 지원 | VS Code (Python Extension), PyCharm, Jupyter Notebook/Lab, Sublime Text |\n",
      "| **5. 형식 검사·테스트** | 정적 분석(`flake8`, `pylint`), 타입 힌트 검사(`mypy`), 테스트 프레임워크(`pytest`) | `pip install flake8 mypy pytest` |\n",
      "| **6. CI/CD** | GitHub Actions, GitLab CI, Jenkins 등으로 자동화 | `.github/workflows/python.yml` 등 |\n",
      "\n",
      "> **Tip**: 초보자는 VS Code와 `venv`만으로도 충분히 개발을 시작할 수 있습니다. Jupyter Notebook은 데이터 분석·머신러닝 학습에 최적화된 인터랙티브 환경을 제공합니다.\n",
      "\n",
      "---\n",
      "\n",
      "## 6. 파이썬 성능 최적화 포인트\n",
      "\n",
      "1. **내장 함수·표준 라이브러리 활용**  \n",
      "   - `sum()`, `sorted()`, `itertools` 등은 C로 구현돼 빠름.\n",
      "\n",
      "2. **리스트 컴프리헨션**  \n",
      "   ```python\n",
      "   squares = [x*x for x in range(1000)]\n",
      "   ```\n",
      "\n",
      "3. **제네레이터 사용**  \n",
      "   메모리 절약 및 지연 평가(Lazy evaluation)  \n",
      "   ```python\n",
      "   def gen():\n",
      "       for i in range(10):\n",
      "           yield i*i\n",
      "   ```\n",
      "\n",
      "4. **NumPy 등 벡터화**  \n",
      "   대규모 수치 연산은 파이썬 루프보다 NumPy 배열 연산이 수십 배 빠름.\n",
      "\n",
      "5. **Cython / PyPy**  \n",
      "   - **Cython**: 파이썬 코드를 C로 컴파일 → 성능 2~10배 향상.  \n",
      "   - **PyPy**: JIT(Just‑In‑Time) 컴파일러를 가진 파이썬 구현체, 순수 파이썬 코드에서 큰 속도 개선.\n",
      "\n",
      "6. **프로파일링**  \n",
      "   - `cProfile`, `line_profiler`, `memory_profiler` 로 병목 찾기.\n",
      "\n",
      "---\n",
      "\n",
      "## 7. 파이썬 학습 로드맵 (추천 순서)\n",
      "\n",
      "1. **기본 문법** (변수, 연산자, 제어문, 함수, 기본 자료구조)  \n",
      "2. **파일·예외 처리**와 **모듈·패키지** 개념  \n",
      "3. **객체지향** (클래스, 상속, 다형성)  \n",
      "4. **표준 라이브러리** 탐색 (`os`, `sys`, `json`, `datetime` 등)  \n",
      "5. **가상 환경·패키지 관리** 실습 (`pip`, `venv`)  \n",
      "6. **실전 프로젝트** – 웹 API, 데이터 분석, 자동화 스크립트 중 하나 선택  \n",
      "7. **테스트·CI** 도입 (`pytest`, GitHub Actions)  \n",
      "8. **고급 주제** – 비동기(`asyncio`), 타입 힌트(`typing`), 메타프로그래밍, 성능 최적화(Cython, PyPy)  \n",
      "\n",
      "> **학습 자료**  \n",
      "> - 공식 튜토리얼: <https://docs.python.org/3/tutorial/>  \n",
      "> - 한국어 입문서: 「점프 투 파이썬」, 「파이썬 코딩 도장」  \n",
      "> - 온라인 강의: 인프런, 생활코딩, Coursera, edX, Udemy 등  \n",
      "> - 실전 연습: LeetCode, HackerRank, 백준 파이썬 문제 풀이  \n",
      "\n",
      "---\n",
      "\n",
      "## 8. 파이썬을 선택해야 하는 이유 (요약)\n",
      "\n",
      "| 관점 | 파이썬이 강점인 이유 |\n",
      "|------|----------------------|\n",
      "| **생산성** | 간결하고 가독성 높은 문법 → 개발 속도 빠름 |\n",
      "| **생태계** | 30만 개 이상의 서드파티 패키지 |\n",
      "| **다양한 분야** | 웹, 데이터, AI, 자동화, 교육 등 거의 모든 IT 영역을 커버 |\n",
      "| **커뮤니티** | 활발한 질문·답변 문화, 풍부한 튜토리얼·예제 |\n",
      "| **이식성** | OS에 구애받지 않는 동일한 코드 |\n",
      "| **미래성** | AI·데이터 과학 트렌드와 함께 성장 중 |\n",
      "\n",
      "---\n",
      "\n",
      "## 9. 마무리\n",
      "\n",
      "파이썬은 **“읽기 쉬운 코드”**와 **“광범위한 라이브러리”**를 핵심으로, 초보자부터 대규모 엔터프라이즈 시스템까지 폭넓게 활용되는 언어입니다. 기본 문법을 익힌 뒤, **프로젝트 기반 학습**을 통해 실제 문제를 해결하면서 경험을 쌓는 것이 가장 효과적인 성장 방법입니다.\n",
      "\n",
      "궁금한 점이 있거나 특정 분야(예: 웹 개발, 데이터 과학 등)에서의 실전 예제가 필요하면 언제든 알려 주세요! 🚀\n"
     ]
    }
   ],
   "source": [
    "try:\n",
    "    response = llm.invoke(prompt_text)\n",
    "    print(type(response))\n",
    "    print(\"응답:\", response.content)\n",
    "except Exception as e:\n",
    "    print(f\"오류 발생: {e}\")"
   ]
  },
  {
   "cell_type": "markdown",
   "metadata": {},
   "source": [
    "# LCEL"
   ]
  },
  {
   "cell_type": "code",
   "execution_count": 21,
   "metadata": {},
   "outputs": [],
   "source": [
    "from langchain_core.output_parsers import StrOutputParser\n",
    "\n",
    "output_parser = StrOutputParser()"
   ]
  },
  {
   "cell_type": "code",
   "execution_count": 22,
   "metadata": {},
   "outputs": [
    {
     "name": "stdout",
     "output_type": "stream",
     "text": [
      "<class 'langchain_core.runnables.base.RunnableSequence'>\n",
      "first=ChatPromptTemplate(input_variables=['input'], input_types={}, partial_variables={}, messages=[SystemMessagePromptTemplate(prompt=PromptTemplate(input_variables=[], input_types={}, partial_variables={}, template='당신은 개발자입니다.'), additional_kwargs={}), HumanMessagePromptTemplate(prompt=PromptTemplate(input_variables=['input'], input_types={}, partial_variables={}, template='{input}'), additional_kwargs={})]) middle=[ChatOpenAI(client=<openai.resources.chat.completions.completions.Completions object at 0x0000028F48314260>, async_client=<openai.resources.chat.completions.completions.AsyncCompletions object at 0x0000028F483143B0>, root_client=<openai.OpenAI object at 0x0000028F48225C40>, root_async_client=<openai.AsyncOpenAI object at 0x0000028F48314110>, model_name='openai/gpt-oss-120b', temperature=0.7, model_kwargs={}, openai_api_key=SecretStr('**********'), openai_api_base='https://api.groq.com/openai/v1')] last=StrOutputParser()\n"
     ]
    }
   ],
   "source": [
    "chain = prompt | llm | output_parser\n",
    "print(type(chain))\n",
    "print(chain)"
   ]
  },
  {
   "cell_type": "code",
   "execution_count": 23,
   "metadata": {},
   "outputs": [],
   "source": [
    "response = chain.invoke({\"input\":\"지구의 자전주기는 얼마인가요?\"})"
   ]
  },
  {
   "cell_type": "code",
   "execution_count": 25,
   "metadata": {},
   "outputs": [
    {
     "name": "stdout",
     "output_type": "stream",
     "text": [
      "<class 'str'>\n",
      "지구가 한 번 자전하는 데 걸리는 시간은 **태양일(solar day)** 기준으로 약 **24시간**입니다.  \n",
      "\n",
      "하지만 보다 정확히 말하면, **항성일(sidereal day)**—즉, 별을 기준으로 한 자전 주기는 약 **23시간 56분 4초**(≈ 23.934 시간)입니다.  \n",
      "\n",
      "- **태양일 (24 h)**: 태양이 같은 위치(예: 정오)로 돌아오는 데 걸리는 시간으로, 일상 생활에서 사용하는 “하루”의 길이입니다.  \n",
      "- **항성일 (23 h 56 m 4 s)**: 별이 같은 위치로 돌아오는 실제 자전 시간이며, 지구가 태양 주위를 공전하면서 약 4분 정도 추가 회전해야 하므로 태양일보다 약간 깁니다.  \n",
      "\n",
      "따라서, 일상적인 의미에서는 **24시간**이 지구의 자전주기이며, 천문학적·정밀한 관측에서는 **23시간 56분 4초**가 정확한 자전주기라고 할 수 있습니다.\n"
     ]
    }
   ],
   "source": [
    "print(type(response))\n",
    "print(response)"
   ]
  }
 ],
 "metadata": {
  "kernelspec": {
   "display_name": "mylangchain-app-SBe-Yh6W-py3.12",
   "language": "python",
   "name": "python3"
  },
  "language_info": {
   "codemirror_mode": {
    "name": "ipython",
    "version": 3
   },
   "file_extension": ".py",
   "mimetype": "text/x-python",
   "name": "python",
   "nbconvert_exporter": "python",
   "pygments_lexer": "ipython3",
   "version": "3.12.7"
  }
 },
 "nbformat": 4,
 "nbformat_minor": 2
}

{
 "cells": [
  {
   "cell_type": "markdown",
   "id": "bae7b91b",
   "metadata": {},
   "source": [
    "### 문제 2-1: 콤마 구분 리스트 파서 활용"
   ]
  },
  {
   "cell_type": "code",
   "execution_count": 1,
   "id": "2f1d19c5",
   "metadata": {},
   "outputs": [
    {
     "name": "stdout",
     "output_type": "stream",
     "text": [
      "'음식' 관련 추천: ['광장시장 먹자골목', '서울 야시장', '전주한옥마을 먹거리', '제주도 흑돼지 맛집 투어', '김장체험']\n",
      "'스포츠' 관련 추천: ['잠실종합운동장', '서울올림픽공원', '태릉선수촌', '한강공원 자전거길', '스키월드 랜드프로그램']\n",
      "'영화' 관련 추천: ['부산국제영화제', '춘천애니메이션박물관', '서울영화촬영소', 'CGV용산아이파크몰아이맥스', '한국영화자료관']\n"
     ]
    }
   ],
   "source": [
    "from langchain_core.output_parsers import CommaSeparatedListOutputParser\n",
    "from langchain_core.prompts import PromptTemplate\n",
    "from langchain_openai import ChatOpenAI\n",
    "\n",
    "# 콤마로 구분된 리스트 출력 파서 초기화\n",
    "output_parser = CommaSeparatedListOutputParser()\n",
    "\n",
    "# 출력 형식 지침 가져오기\n",
    "format_instructions = output_parser.get_format_instructions()\n",
    "\n",
    "# 프롬프트 템플릿 설정\n",
    "prompt = PromptTemplate(\n",
    "    template=\"사용자의 관심분야인 {subject}와 관련된 한국의 유명한 장소나 활동 5가지를 추천해주세요.\\n{format_instructions}\",\n",
    "    input_variables=[\"subject\"],\n",
    "    partial_variables={\"format_instructions\": format_instructions},\n",
    ")\n",
    "\n",
    "# 언어 모델 설정\n",
    "llm = ChatOpenAI(\n",
    "    base_url=\"https://api.groq.com/openai/v1\",\n",
    "    model=\"moonshotai/kimi-k2-instruct-0905\",\n",
    "    temperature=0.7\n",
    ")\n",
    "\n",
    "# 체인 생성\n",
    "chain = prompt | llm | output_parser\n",
    "\n",
    "# 체인 호출 및 결과 출력\n",
    "subject = \"음식\"\n",
    "result = chain.invoke({\"subject\": subject})\n",
    "print(f\"'{subject}' 관련 추천: {result}\")\n",
    "\n",
    "subject = \"스포츠\"\n",
    "result = chain.invoke({\"subject\": subject})\n",
    "print(f\"'{subject}' 관련 추천: {result}\")\n",
    "\n",
    "subject = \"영화\"\n",
    "result = chain.invoke({\"subject\": subject})\n",
    "print(f\"'{subject}' 관련 추천: {result}\")"
   ]
  },
  {
   "cell_type": "markdown",
   "id": "fb7469f3",
   "metadata": {},
   "source": [
    "### 문제 2-2: 영화 리뷰 감정 분석기"
   ]
  },
  {
   "cell_type": "code",
   "execution_count": 2,
   "id": "cf4bfe74",
   "metadata": {},
   "outputs": [
    {
     "name": "stdout",
     "output_type": "stream",
     "text": [
      "리뷰: \"이 영화 정말 재미없어요. 시간 낭비였습니다.\" -> 감정: 부정\n",
      "리뷰: \"배우들의 연기가 훌륭하고 스토리도 감동적이었어요!\" -> 감정: 긍정\n",
      "리뷰: \"그냥 무난한 영화였습니다. 나쁘지도 좋지도 않아요.\" -> 감정: 보통\n"
     ]
    }
   ],
   "source": [
    "from langchain_openai import ChatOpenAI\n",
    "from langchain_core.prompts import ChatPromptTemplate\n",
    "from langchain.output_parsers import EnumOutputParser\n",
    "from enum import Enum\n",
    "\n",
    "# 감정 클래스 정의\n",
    "class Sentiment(str, Enum):\n",
    "    POSITIVE = \"긍정\"\n",
    "    NEGATIVE = \"부정\"\n",
    "    NEUTRAL = \"보통\"\n",
    "\n",
    "# EnumOutputParser 초기화\n",
    "parser = EnumOutputParser(enum=Sentiment)\n",
    "\n",
    "# 프롬프트 템플릿\n",
    "template = \"\"\"\n",
    "당신은 텍스트 감정 분석 전문가입니다.\n",
    "다음 텍스트의 감정을 분석하고, 반드시 아래 세 가지 중 하나의 단어로만 답변하세요.\n",
    "\n",
    "텍스트: \"{text}\"\n",
    "\n",
    "{format_instructions}\n",
    "\n",
    "중요 규칙:\n",
    "1. 반드시 \"긍정\", \"부정\", \"보통\" 중 하나의 단어만 출력하세요.\n",
    "2. 다른 설명이나 부가 설명을 추가하지 마세요.\n",
    "\"\"\"\n",
    "\n",
    "prompt = ChatPromptTemplate.from_template(template)\n",
    "prompt = prompt.partial(format_instructions=parser.get_format_instructions())\n",
    "\n",
    "# 언어 모델 설정\n",
    "llm = ChatOpenAI(\n",
    "    base_url=\"https://api.groq.com/openai/v1\",\n",
    "    model=\"moonshotai/kimi-k2-instruct-0905\",\n",
    "    temperature=0\n",
    ")\n",
    "\n",
    "# 체인 생성\n",
    "chain = prompt | llm | parser\n",
    "\n",
    "# 테스트 리뷰\n",
    "test_reviews = [\n",
    "    \"이 영화 정말 재미없어요. 시간 낭비였습니다.\",\n",
    "    \"배우들의 연기가 훌륭하고 스토리도 감동적이었어요!\",\n",
    "    \"그냥 무난한 영화였습니다. 나쁘지도 좋지도 않아요.\"\n",
    "]\n",
    "\n",
    "# 리뷰 감정 분석 및 출력\n",
    "for review in test_reviews:\n",
    "    result = chain.invoke({\"text\": review})\n",
    "    print(f\"리뷰: \\\"{review}\\\" -> 감정: {result.value}\")"
   ]
  },
  {
   "cell_type": "markdown",
   "id": "85a62527",
   "metadata": {},
   "source": [
    "### 문제 2-3: 학생 정보 구조화 시스템"
   ]
  },
  {
   "cell_type": "code",
   "execution_count": 4,
   "id": "ca0400ed",
   "metadata": {},
   "outputs": [
    {
     "name": "stdout",
     "output_type": "stream",
     "text": [
      "{\n",
      "    \"name\": \"김민수\",\n",
      "    \"age\": 22,\n",
      "    \"major\": \"컴퓨터공학\",\n",
      "    \"hobbies\": [\n",
      "        \"게임하기\",\n",
      "        \"영화보기\",\n",
      "        \"코딩\"\n",
      "    ],\n",
      "    \"goal\": \"훌륭한 개발자가 되는 것\"\n",
      "}\n"
     ]
    },
    {
     "name": "stderr",
     "output_type": "stream",
     "text": [
      "C:\\Users\\user\\AppData\\Local\\Temp\\ipykernel_6920\\1973774720.py:47: PydanticDeprecatedSince20: The `dict` method is deprecated; use `model_dump` instead. Deprecated in Pydantic V2.0 to be removed in V3.0. See Pydantic V2 Migration Guide at https://errors.pydantic.dev/2.11/migration/\n",
      "  print(json.dumps(result.dict(), indent=4, ensure_ascii=False))\n"
     ]
    }
   ],
   "source": [
    "import json\n",
    "from langchain_openai import ChatOpenAI\n",
    "from langchain_core.prompts import ChatPromptTemplate\n",
    "from langchain.output_parsers import PydanticOutputParser\n",
    "from pydantic import BaseModel, Field\n",
    "from typing import List\n",
    "\n",
    "# 출력 구조를 정의하는 Pydantic 모델\n",
    "class StudentInfo(BaseModel):\n",
    "    name: str = Field(description=\"학생의 이름\")\n",
    "    age: int = Field(description=\"학생의 나이\")\n",
    "    major: str = Field(description=\"학생의 전공\")\n",
    "    hobbies: List[str] = Field(description=\"학생의 취미 리스트\")\n",
    "    goal: str = Field(description=\"학생의 목표\")\n",
    "\n",
    "# Pydantic 출력 파서 초기화\n",
    "parser = PydanticOutputParser(pydantic_object=StudentInfo)\n",
    "\n",
    "# 프롬프트 템플릿 설정\n",
    "template = \"\"\"\n",
    "학생의 자기소개를 분석하여 아래 형식에 맞게 정보를 추출해주세요.\n",
    "자기소개: {introduction}\n",
    "\n",
    "{format_instructions}\n",
    "\"\"\"\n",
    "\n",
    "prompt = ChatPromptTemplate.from_template(template)\n",
    "prompt = prompt.partial(format_instructions=parser.get_format_instructions())\n",
    "\n",
    "# 언어 모델 설정\n",
    "llm = ChatOpenAI(\n",
    "    base_url=\"https://api.groq.com/openai/v1\",\n",
    "    model=\"moonshotai/kimi-k2-instruct-0905\",\n",
    "    temperature=0\n",
    ")\n",
    "\n",
    "# 체인 생성\n",
    "chain = prompt | llm | parser\n",
    "\n",
    "# 예시 입력\n",
    "introduction = \"안녕하세요! 저는 김민수이고 22살입니다. 컴퓨터공학을 전공하고 있어요. 취미로는 게임하기, 영화보기, 코딩을 좋아합니다. 앞으로 훌륭한 개발자가 되는 것이 목표입니다.\"\n",
    "\n",
    "# 정보 추출\n",
    "result = chain.invoke({\"introduction\": introduction})\n",
    "\n",
    "# JSON 형식으로 예쁘게 출력\n",
    "print(json.dumps(result.dict(), indent=4, ensure_ascii=False))"
   ]
  },
  {
   "cell_type": "markdown",
   "id": "2c9f04f5",
   "metadata": {},
   "source": [
    "### 문제 2-4: 여행 계획 분석기"
   ]
  },
  {
   "cell_type": "code",
   "execution_count": 5,
   "id": "e6a9648b",
   "metadata": {},
   "outputs": [
    {
     "name": "stdout",
     "output_type": "stream",
     "text": [
      "{\n",
      "    \"destination\": \"부산\",\n",
      "    \"duration\": \"2박 3일\",\n",
      "    \"budget\": \"30만원\",\n",
      "    \"rating\": \"4점\",\n",
      "    \"activities\": [\n",
      "        \"해운대 바다구경\",\n",
      "        \"자갈치시장 회 먹기\",\n",
      "        \"감천문화마을 구경\"\n",
      "    ]\n",
      "}\n"
     ]
    }
   ],
   "source": [
    "import json\n",
    "from langchain_openai import ChatOpenAI\n",
    "from langchain_core.prompts import ChatPromptTemplate\n",
    "from langchain.output_parsers import StructuredOutputParser, ResponseSchema\n",
    "\n",
    "# 출력 구조 정의\n",
    "response_schemas = [\n",
    "    ResponseSchema(name=\"destination\", description=\"여행지\"),\n",
    "    ResponseSchema(name=\"duration\", description=\"여행 기간\"),\n",
    "    ResponseSchema(name=\"budget\", description=\"총 예산\"),\n",
    "    ResponseSchema(name=\"rating\", description=\"추천도 (1-5점)\"),\n",
    "    ResponseSchema(name=\"activities\", description=\"주요 활동 리스트\", type=\"list\")\n",
    "]\n",
    "\n",
    "# 파서 초기화\n",
    "parser = StructuredOutputParser.from_response_schemas(response_schemas)\n",
    "format_instructions = parser.get_format_instructions()\n",
    "\n",
    "# 프롬프트 템플릿\n",
    "template = \"\"\"\n",
    "다음 여행 후기 텍스트를 분석하여 아래 형식에 맞게 정보를 추출하세요.\n",
    "후기: {review}\n",
    "\n",
    "{format_instructions}\n",
    "\"\"\"\n",
    "\n",
    "prompt = ChatPromptTemplate.from_template(template)\n",
    "prompt = prompt.partial(format_instructions=format_instructions)\n",
    "\n",
    "# 언어 모델 설정\n",
    "llm = ChatOpenAI(\n",
    "    base_url=\"https://api.groq.com/openai/v1\",\n",
    "    model=\"moonshotai/kimi-k2-instruct-0905\",\n",
    "    temperature=0\n",
    ")\n",
    "\n",
    "# 체인 생성\n",
    "chain = prompt | llm | parser\n",
    "\n",
    "# 예시 입력\n",
    "review = \"지난 주에 부산으로 2박 3일 여행을 다녀왔어요. 총 30만원 정도 썼는데 해운대에서 바다구경하고, 자갈치시장에서 회 먹고, 감천문화마을도 구경했어요. 정말 만족스러운 여행이었습니다. 5점 만점에 4점 정도 줄 수 있을 것 같아요.\"\n",
    "\n",
    "# 정보 추출\n",
    "result = chain.invoke({\"review\": review})\n",
    "\n",
    "# JSON 형식으로 예쁘게 출력\n",
    "print(json.dumps(result, indent=4, ensure_ascii=False))"
   ]
  }
 ],
 "metadata": {
  "kernelspec": {
   "display_name": "mylangchain-app-SBe-Yh6W-py3.12",
   "language": "python",
   "name": "python3"
  },
  "language_info": {
   "codemirror_mode": {
    "name": "ipython",
    "version": 3
   },
   "file_extension": ".py",
   "mimetype": "text/x-python",
   "name": "python",
   "nbconvert_exporter": "python",
   "pygments_lexer": "ipython3",
   "version": "3.12.7"
  }
 },
 "nbformat": 4,
 "nbformat_minor": 5
}
